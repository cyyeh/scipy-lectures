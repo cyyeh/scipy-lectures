{
  "nbformat": 4,
  "nbformat_minor": 0,
  "metadata": {
    "colab": {
      "provenance": [],
      "authorship_tag": "ABX9TyPB20qij0tsIlGzoe9vXFg/",
      "include_colab_link": true
    },
    "kernelspec": {
      "name": "python3",
      "display_name": "Python 3"
    },
    "language_info": {
      "name": "python"
    }
  },
  "cells": [
    {
      "cell_type": "markdown",
      "metadata": {
        "id": "view-in-github",
        "colab_type": "text"
      },
      "source": [
        "<a href=\"https://colab.research.google.com/github/cyyeh/scipy-lectures/blob/main/scipy_lectures.ipynb\" target=\"_parent\"><img src=\"https://colab.research.google.com/assets/colab-badge.svg\" alt=\"Open In Colab\"/></a>"
      ]
    },
    {
      "cell_type": "markdown",
      "source": [
        "# Scipy Lecture Notes\n",
        "\n",
        "> One document to learn numerics, science, and data with Python\n",
        "\n",
        "reference: https://scipy-lectures.org/index.html"
      ],
      "metadata": {
        "id": "oJRoGZVWeqaA"
      }
    },
    {
      "cell_type": "code",
      "source": [
        "import numpy as np\n",
        "import matplotlib.pyplot as plt\n",
        "import seaborn as sns\n",
        "%matplotlib inline"
      ],
      "metadata": {
        "id": "FqqmgDWBiDYF"
      },
      "execution_count": 28,
      "outputs": []
    },
    {
      "cell_type": "markdown",
      "source": [
        "## 1. Getting started with Python for science"
      ],
      "metadata": {
        "id": "TqP6UF0ie658"
      }
    },
    {
      "cell_type": "markdown",
      "source": [
        "### [Numpy: creating and manipulating numerical data](https://scipy-lectures.org/intro/numpy/index.html)"
      ],
      "metadata": {
        "id": "F7cbqZSwfA_3"
      }
    },
    {
      "cell_type": "markdown",
      "source": [
        "Table of Contents\n",
        "\n",
        "- [The Numpy array object](#scrollTo=5nUZx6q5o6PK&line=1&uniqifier=1)\n",
        "  - What are Numpy and Numpy arrays?\n",
        "  - Creating arrays\n",
        "  - Basic data types\n",
        "  - Basic visualization\n",
        "  - Indexing and slicing\n",
        "  - Copies and views\n",
        "  - Fancy indexing\n",
        "- [Numerical operations on arrays](#scrollTo=zKRdinZoqcGs&line=1&uniqifier=1)\n",
        "  - Elementwise operations\n",
        "  - Basic reductions\n",
        "  - Broadcasting\n",
        "  - Array shape manipulation\n",
        "  - Sorting data\n",
        "  - Summary\n",
        "- More elaborate arrays\n",
        "  - More data types\n",
        "  - Structured data types\n",
        "  - `maskedarray`: dealing with (propagation of) missing data\n",
        "- Advanced operations\n",
        "  - Polynomials\n",
        "  - Loading data files\n",
        "- Some exercises\n",
        "  - Array manipulations\n",
        "  - Picture manipulation: Framing a Face\n",
        "  - Data statistics\n",
        "  - Crude integral approximations\n",
        "  - Mandelbrot set\n",
        "  - Markov chain"
      ],
      "metadata": {
        "id": "dpF8h_CJo-JM"
      }
    },
    {
      "cell_type": "markdown",
      "source": [
        "#### The Numpy array object"
      ],
      "metadata": {
        "id": "5nUZx6q5o6PK"
      }
    },
    {
      "cell_type": "code",
      "source": [
        "a = np.array([0, 1, 2, 3])\n",
        "a"
      ],
      "metadata": {
        "colab": {
          "base_uri": "https://localhost:8080/"
        },
        "id": "yNU3kXZKgrIH",
        "outputId": "fba67c62-db7d-41b0-a81b-819902f6503c"
      },
      "execution_count": 3,
      "outputs": [
        {
          "output_type": "execute_result",
          "data": {
            "text/plain": [
              "array([0, 1, 2, 3])"
            ]
          },
          "metadata": {},
          "execution_count": 3
        }
      ]
    },
    {
      "cell_type": "code",
      "source": [
        "%timeit [i**2 for i in range(1000)]"
      ],
      "metadata": {
        "colab": {
          "base_uri": "https://localhost:8080/"
        },
        "id": "jR8jffzagv7Q",
        "outputId": "7250ddc7-60aa-4881-e5bb-ef980bad73c1"
      },
      "execution_count": 4,
      "outputs": [
        {
          "output_type": "stream",
          "name": "stdout",
          "text": [
            "281 µs ± 6.51 µs per loop (mean ± std. dev. of 7 runs, 1000 loops each)\n"
          ]
        }
      ]
    },
    {
      "cell_type": "code",
      "source": [
        "%timeit np.arange(1000)"
      ],
      "metadata": {
        "colab": {
          "base_uri": "https://localhost:8080/"
        },
        "id": "tSGf4Dneg2Es",
        "outputId": "accb20a1-c87a-4117-8b39-47eeededb6ee"
      },
      "execution_count": 5,
      "outputs": [
        {
          "output_type": "stream",
          "name": "stdout",
          "text": [
            "1.41 µs ± 9.77 ns per loop (mean ± std. dev. of 7 runs, 1000000 loops each)\n"
          ]
        }
      ]
    },
    {
      "cell_type": "code",
      "source": [
        "np.array?"
      ],
      "metadata": {
        "id": "ARe1Uflbg-7j"
      },
      "execution_count": 6,
      "outputs": []
    },
    {
      "cell_type": "code",
      "source": [
        "a.ndim, a.shape, len(a)"
      ],
      "metadata": {
        "colab": {
          "base_uri": "https://localhost:8080/"
        },
        "id": "42O709TThJyK",
        "outputId": "72cc9d50-da29-4039-a785-e7e6fcacd105"
      },
      "execution_count": 7,
      "outputs": [
        {
          "output_type": "execute_result",
          "data": {
            "text/plain": [
              "(1, (4,), 4)"
            ]
          },
          "metadata": {},
          "execution_count": 7
        }
      ]
    },
    {
      "cell_type": "code",
      "source": [
        "np.arange(10)"
      ],
      "metadata": {
        "colab": {
          "base_uri": "https://localhost:8080/"
        },
        "id": "Tczxyo-khNOn",
        "outputId": "3f3eaf2c-4c83-4d6e-86b8-3c3c4efd3a2a"
      },
      "execution_count": 16,
      "outputs": [
        {
          "output_type": "execute_result",
          "data": {
            "text/plain": [
              "array([0, 1, 2, 3, 4, 5, 6, 7, 8, 9])"
            ]
          },
          "metadata": {},
          "execution_count": 16
        }
      ]
    },
    {
      "cell_type": "code",
      "source": [
        "np.linspace(0, 1, 6)"
      ],
      "metadata": {
        "colab": {
          "base_uri": "https://localhost:8080/"
        },
        "id": "i3FHWcbhhcZc",
        "outputId": "92fb6ae1-67a9-4955-c4fa-1b7891c25ed9"
      },
      "execution_count": 15,
      "outputs": [
        {
          "output_type": "execute_result",
          "data": {
            "text/plain": [
              "array([0. , 0.2, 0.4, 0.6, 0.8, 1. ])"
            ]
          },
          "metadata": {},
          "execution_count": 15
        }
      ]
    },
    {
      "cell_type": "code",
      "source": [
        "np.linspace(0, 1, 5, endpoint=False)"
      ],
      "metadata": {
        "colab": {
          "base_uri": "https://localhost:8080/"
        },
        "id": "s-fQxG6shjir",
        "outputId": "009e5911-3560-4cac-aa8d-ad4d571fbe7d"
      },
      "execution_count": 14,
      "outputs": [
        {
          "output_type": "execute_result",
          "data": {
            "text/plain": [
              "array([0. , 0.2, 0.4, 0.6, 0.8])"
            ]
          },
          "metadata": {},
          "execution_count": 14
        }
      ]
    },
    {
      "cell_type": "code",
      "source": [
        "np.ones((3, 3))"
      ],
      "metadata": {
        "colab": {
          "base_uri": "https://localhost:8080/"
        },
        "id": "5zpFgP8jhok7",
        "outputId": "8b24dd42-cc0a-4221-fa98-52c73d378b3d"
      },
      "execution_count": 13,
      "outputs": [
        {
          "output_type": "execute_result",
          "data": {
            "text/plain": [
              "array([[1., 1., 1.],\n",
              "       [1., 1., 1.],\n",
              "       [1., 1., 1.]])"
            ]
          },
          "metadata": {},
          "execution_count": 13
        }
      ]
    },
    {
      "cell_type": "code",
      "source": [
        "np.zeros((2, 2))"
      ],
      "metadata": {
        "colab": {
          "base_uri": "https://localhost:8080/"
        },
        "id": "bMXYWyBkhwOc",
        "outputId": "22e92c4b-a0d6-42b8-cb0e-371848b2a571"
      },
      "execution_count": 17,
      "outputs": [
        {
          "output_type": "execute_result",
          "data": {
            "text/plain": [
              "array([[0., 0.],\n",
              "       [0., 0.]])"
            ]
          },
          "metadata": {},
          "execution_count": 17
        }
      ]
    },
    {
      "cell_type": "code",
      "source": [
        "np.diag(np.array([1, 2, 3, 4]))"
      ],
      "metadata": {
        "colab": {
          "base_uri": "https://localhost:8080/"
        },
        "id": "UqO2o7lrhykh",
        "outputId": "988f8e44-565e-443e-857a-5ddb908e97c3"
      },
      "execution_count": 18,
      "outputs": [
        {
          "output_type": "execute_result",
          "data": {
            "text/plain": [
              "array([[1, 0, 0, 0],\n",
              "       [0, 2, 0, 0],\n",
              "       [0, 0, 3, 0],\n",
              "       [0, 0, 0, 4]])"
            ]
          },
          "metadata": {},
          "execution_count": 18
        }
      ]
    },
    {
      "cell_type": "code",
      "source": [
        "sns.displot(np.random.rand(1000));"
      ],
      "metadata": {
        "colab": {
          "base_uri": "https://localhost:8080/",
          "height": 369
        },
        "id": "Md-GOzfjh3lw",
        "outputId": "74fb5c11-db28-4933-fe14-dba9fce6b15e"
      },
      "execution_count": 36,
      "outputs": [
        {
          "output_type": "display_data",
          "data": {
            "text/plain": [
              "<Figure size 360x360 with 1 Axes>"
            ],
            "image/png": "[encoded data removed]"
          },
          "metadata": {
            "needs_background": "light"
          }
        }
      ]
    },
    {
      "cell_type": "code",
      "source": [
        "sns.displot(np.random.randn(1000));"
      ],
      "metadata": {
        "colab": {
          "base_uri": "https://localhost:8080/",
          "height": 369
        },
        "id": "8RJXhniXh5eT",
        "outputId": "facd025d-1059-43c7-98dd-b60584dbb110"
      },
      "execution_count": 37,
      "outputs": [
        {
          "output_type": "display_data",
          "data": {
            "text/plain": [
              "<Figure size 360x360 with 1 Axes>"
            ],
            "image/png": "[encoded data removed]"
          },
          "metadata": {
            "needs_background": "light"
          }
        }
      ]
    },
    {
      "cell_type": "code",
      "source": [
        "np.random.seed(10)"
      ],
      "metadata": {
        "id": "IH8hTrJdjok-"
      },
      "execution_count": 38,
      "outputs": []
    },
    {
      "cell_type": "code",
      "source": [
        "np.empty((1,))"
      ],
      "metadata": {
        "colab": {
          "base_uri": "https://localhost:8080/"
        },
        "id": "TK_JAhFhjtH-",
        "outputId": "5b7509a8-b6d7-4a24-e7e4-09a5c1fd8ae7"
      },
      "execution_count": 42,
      "outputs": [
        {
          "output_type": "execute_result",
          "data": {
            "text/plain": [
              "array([100.])"
            ]
          },
          "metadata": {},
          "execution_count": 42
        }
      ]
    },
    {
      "cell_type": "code",
      "source": [
        "np.empty?"
      ],
      "metadata": {
        "id": "Hu0yzhKOjxAI"
      },
      "execution_count": 40,
      "outputs": []
    },
    {
      "cell_type": "code",
      "source": [
        "a = np.array([1, 2, 3])\n",
        "a.dtype"
      ],
      "metadata": {
        "colab": {
          "base_uri": "https://localhost:8080/"
        },
        "id": "fBRsXqiRj_2R",
        "outputId": "26d382a7-af31-474f-d960-bf07e33ada28"
      },
      "execution_count": 43,
      "outputs": [
        {
          "output_type": "execute_result",
          "data": {
            "text/plain": [
              "dtype('int64')"
            ]
          },
          "metadata": {},
          "execution_count": 43
        }
      ]
    },
    {
      "cell_type": "code",
      "source": [
        "b = np.array([1., 2., 3.])\n",
        "b.dtype"
      ],
      "metadata": {
        "colab": {
          "base_uri": "https://localhost:8080/"
        },
        "id": "xgeaI1khkD4l",
        "outputId": "bda2cf7b-f842-475e-b8a2-cbbcb9e8063d"
      },
      "execution_count": 44,
      "outputs": [
        {
          "output_type": "execute_result",
          "data": {
            "text/plain": [
              "dtype('float64')"
            ]
          },
          "metadata": {},
          "execution_count": 44
        }
      ]
    },
    {
      "cell_type": "code",
      "source": [
        "a = np.ones((3, 3))\n",
        "a.dtype"
      ],
      "metadata": {
        "colab": {
          "base_uri": "https://localhost:8080/"
        },
        "id": "1bONQzP1kHgU",
        "outputId": "71cc13dd-69a3-44bd-c491-3d464bfbcc16"
      },
      "execution_count": 45,
      "outputs": [
        {
          "output_type": "execute_result",
          "data": {
            "text/plain": [
              "dtype('float64')"
            ]
          },
          "metadata": {},
          "execution_count": 45
        }
      ]
    },
    {
      "cell_type": "code",
      "source": [
        "f = np.array(['Bonjour', 'Hello', 'Hallo'])\n",
        "f.dtype"
      ],
      "metadata": {
        "colab": {
          "base_uri": "https://localhost:8080/"
        },
        "id": "DtMX42o_kLhV",
        "outputId": "bad62f2d-2ea3-42da-92d3-8108f06cc514"
      },
      "execution_count": 46,
      "outputs": [
        {
          "output_type": "execute_result",
          "data": {
            "text/plain": [
              "dtype('<U7')"
            ]
          },
          "metadata": {},
          "execution_count": 46
        }
      ]
    },
    {
      "cell_type": "code",
      "source": [
        "x = np.linspace(0, 3, 20)\n",
        "y = np.linspace(0, 9, 20)\n",
        "plt.plot(x, y, 'o');"
      ],
      "metadata": {
        "colab": {
          "base_uri": "https://localhost:8080/",
          "height": 265
        },
        "id": "TAp4ieGGkR9h",
        "outputId": "948a0be2-f500-4385-beed-940776920af9"
      },
      "execution_count": 48,
      "outputs": [
        {
          "output_type": "display_data",
          "data": {
            "text/plain": [
              "<Figure size 432x288 with 1 Axes>"
            ],
            "image/png": "[encoded data removed]"
          },
          "metadata": {
            "needs_background": "light"
          }
        }
      ]
    },
    {
      "cell_type": "code",
      "source": [
        "image = np.random.randn(30, 30)\n",
        "plt.imshow(image, cmap=plt.cm.hot);\n",
        "plt.colorbar();"
      ],
      "metadata": {
        "colab": {
          "base_uri": "https://localhost:8080/",
          "height": 266
        },
        "id": "673TGlAfkcq4",
        "outputId": "0a1711e9-6496-413c-cc58-9a68c8cea4b5"
      },
      "execution_count": 50,
      "outputs": [
        {
          "output_type": "display_data",
          "data": {
            "text/plain": [
              "<Figure size 432x288 with 2 Axes>"
            ],
            "image/png": "[encoded data removed]"
          },
          "metadata": {
            "needs_background": "light"
          }
        }
      ]
    },
    {
      "cell_type": "code",
      "source": [
        "a = np.arange(10)\n",
        "a[::-1]"
      ],
      "metadata": {
        "colab": {
          "base_uri": "https://localhost:8080/"
        },
        "id": "jOzGM7Skkouj",
        "outputId": "b4f34264-a7e9-40b0-80e9-cf5228a06d1a"
      },
      "execution_count": 51,
      "outputs": [
        {
          "output_type": "execute_result",
          "data": {
            "text/plain": [
              "array([9, 8, 7, 6, 5, 4, 3, 2, 1, 0])"
            ]
          },
          "metadata": {},
          "execution_count": 51
        }
      ]
    },
    {
      "cell_type": "code",
      "source": [
        "a = np.diag(np.arange(3))\n",
        "a[1, 1]"
      ],
      "metadata": {
        "colab": {
          "base_uri": "https://localhost:8080/"
        },
        "id": "hePzAKoGkoO4",
        "outputId": "7723a2f6-7110-413c-9d09-5f0d327baae8"
      },
      "execution_count": 54,
      "outputs": [
        {
          "output_type": "execute_result",
          "data": {
            "text/plain": [
              "1"
            ]
          },
          "metadata": {},
          "execution_count": 54
        }
      ]
    },
    {
      "cell_type": "code",
      "source": [
        "np.arange(0, 51, 10)[:, np.newaxis]"
      ],
      "metadata": {
        "colab": {
          "base_uri": "https://localhost:8080/"
        },
        "id": "YGIpLdBYkz7g",
        "outputId": "b08c5973-3a57-419c-b6a2-0ae985ad039b"
      },
      "execution_count": 58,
      "outputs": [
        {
          "output_type": "execute_result",
          "data": {
            "text/plain": [
              "array([[ 0],\n",
              "       [10],\n",
              "       [20],\n",
              "       [30],\n",
              "       [40],\n",
              "       [50]])"
            ]
          },
          "metadata": {},
          "execution_count": 58
        }
      ]
    },
    {
      "cell_type": "code",
      "source": [
        "np.arange(6) + np.arange(0, 51, 10)[:, np.newaxis]"
      ],
      "metadata": {
        "colab": {
          "base_uri": "https://localhost:8080/"
        },
        "id": "_N5bGhbslAf3",
        "outputId": "f9bdf8ff-0bd8-4708-ac97-eef705904326"
      },
      "execution_count": 59,
      "outputs": [
        {
          "output_type": "execute_result",
          "data": {
            "text/plain": [
              "array([[ 0,  1,  2,  3,  4,  5],\n",
              "       [10, 11, 12, 13, 14, 15],\n",
              "       [20, 21, 22, 23, 24, 25],\n",
              "       [30, 31, 32, 33, 34, 35],\n",
              "       [40, 41, 42, 43, 44, 45],\n",
              "       [50, 51, 52, 53, 54, 55]])"
            ]
          },
          "metadata": {},
          "execution_count": 59
        }
      ]
    },
    {
      "cell_type": "code",
      "source": [
        "a = np.ones((4, 4), dtype=int)\n",
        "a[2][3] = 2\n",
        "a[3][1] = 6\n",
        "a"
      ],
      "metadata": {
        "colab": {
          "base_uri": "https://localhost:8080/"
        },
        "id": "ojuAFnKtlcDt",
        "outputId": "d4671ee7-117b-4841-f5fb-69f448890113"
      },
      "execution_count": 64,
      "outputs": [
        {
          "output_type": "execute_result",
          "data": {
            "text/plain": [
              "array([[1, 1, 1, 1],\n",
              "       [1, 1, 1, 1],\n",
              "       [1, 1, 1, 2],\n",
              "       [1, 6, 1, 1]])"
            ]
          },
          "metadata": {},
          "execution_count": 64
        }
      ]
    },
    {
      "cell_type": "code",
      "source": [
        "a = np.concatenate((np.zeros((1, 5)), np.diag(np.array([2, 3, 4, 5, 6], dtype=float))))\n",
        "a"
      ],
      "metadata": {
        "colab": {
          "base_uri": "https://localhost:8080/"
        },
        "id": "p4TviM9olsBe",
        "outputId": "ff633739-866e-4893-83f4-96ca711fa7d2"
      },
      "execution_count": 79,
      "outputs": [
        {
          "output_type": "execute_result",
          "data": {
            "text/plain": [
              "array([[0., 0., 0., 0., 0.],\n",
              "       [2., 0., 0., 0., 0.],\n",
              "       [0., 3., 0., 0., 0.],\n",
              "       [0., 0., 4., 0., 0.],\n",
              "       [0., 0., 0., 5., 0.],\n",
              "       [0., 0., 0., 0., 6.]])"
            ]
          },
          "metadata": {},
          "execution_count": 79
        }
      ]
    },
    {
      "cell_type": "code",
      "source": [
        "np.tile(np.array([[4, 3], [2, 1]]), (2, 3))"
      ],
      "metadata": {
        "colab": {
          "base_uri": "https://localhost:8080/"
        },
        "id": "TTaiTQxXmqGc",
        "outputId": "ba2a15e2-468c-4c0a-8dff-02d41750de13"
      },
      "execution_count": 83,
      "outputs": [
        {
          "output_type": "execute_result",
          "data": {
            "text/plain": [
              "array([[4, 3, 4, 3, 4, 3],\n",
              "       [2, 1, 2, 1, 2, 1],\n",
              "       [4, 3, 4, 3, 4, 3],\n",
              "       [2, 1, 2, 1, 2, 1]])"
            ]
          },
          "metadata": {},
          "execution_count": 83
        }
      ]
    },
    {
      "cell_type": "code",
      "source": [
        "a = np.arange(10)\n",
        "b = a[::2]\n",
        "# check if two arrays share the same memory block.\n",
        "# Note however, that this uses heuristics and may give you false positives.\n",
        "np.may_share_memory(a, b)"
      ],
      "metadata": {
        "colab": {
          "base_uri": "https://localhost:8080/"
        },
        "id": "l-wQ-yo8nmKi",
        "outputId": "e0e22439-48fd-466c-a637-e749676900a3"
      },
      "execution_count": 84,
      "outputs": [
        {
          "output_type": "execute_result",
          "data": {
            "text/plain": [
              "True"
            ]
          },
          "metadata": {},
          "execution_count": 84
        }
      ]
    },
    {
      "cell_type": "code",
      "source": [
        "b[0] = 12\n",
        "a"
      ],
      "metadata": {
        "colab": {
          "base_uri": "https://localhost:8080/"
        },
        "id": "VIIrEWspnvou",
        "outputId": "354c24a3-571e-4788-a668-d82a55502335"
      },
      "execution_count": 85,
      "outputs": [
        {
          "output_type": "execute_result",
          "data": {
            "text/plain": [
              "array([12,  1,  2,  3,  4,  5,  6,  7,  8,  9])"
            ]
          },
          "metadata": {},
          "execution_count": 85
        }
      ]
    },
    {
      "cell_type": "code",
      "source": [
        "a = np.arange(10)\n",
        "c = a[::2].copy()\n",
        "c[0] = 12\n",
        "np.may_share_memory(a, c)"
      ],
      "metadata": {
        "colab": {
          "base_uri": "https://localhost:8080/"
        },
        "id": "PLlFlgVnnyq-",
        "outputId": "35d07c4e-a944-478e-dfc2-5be1b82b6e21"
      },
      "execution_count": 86,
      "outputs": [
        {
          "output_type": "execute_result",
          "data": {
            "text/plain": [
              "False"
            ]
          },
          "metadata": {},
          "execution_count": 86
        }
      ]
    },
    {
      "cell_type": "code",
      "source": [
        "a"
      ],
      "metadata": {
        "colab": {
          "base_uri": "https://localhost:8080/"
        },
        "id": "XaJFsuHyn5E0",
        "outputId": "5caece71-4590-46e4-85c4-c0d50d72fb0c"
      },
      "execution_count": 87,
      "outputs": [
        {
          "output_type": "execute_result",
          "data": {
            "text/plain": [
              "array([0, 1, 2, 3, 4, 5, 6, 7, 8, 9])"
            ]
          },
          "metadata": {},
          "execution_count": 87
        }
      ]
    },
    {
      "cell_type": "code",
      "source": [
        "a = np.random.randint(0, 21, 15)\n",
        "mask = (a % 3 == 0)\n",
        "mask"
      ],
      "metadata": {
        "colab": {
          "base_uri": "https://localhost:8080/"
        },
        "id": "RdnAwafeogv4",
        "outputId": "83632270-29f0-4de2-c96f-4126e8fcf0dc"
      },
      "execution_count": 89,
      "outputs": [
        {
          "output_type": "execute_result",
          "data": {
            "text/plain": [
              "array([False, False,  True, False,  True,  True,  True, False,  True,\n",
              "       False, False, False, False,  True,  True])"
            ]
          },
          "metadata": {},
          "execution_count": 89
        }
      ]
    },
    {
      "cell_type": "code",
      "source": [
        "a[mask]"
      ],
      "metadata": {
        "colab": {
          "base_uri": "https://localhost:8080/"
        },
        "id": "mA9Z9KIIop4e",
        "outputId": "c3d5b92e-dc27-4bd4-889b-b6ff3947565c"
      },
      "execution_count": 91,
      "outputs": [
        {
          "output_type": "execute_result",
          "data": {
            "text/plain": [
              "array([15,  9, 15, 15, 12, 12,  6])"
            ]
          },
          "metadata": {},
          "execution_count": 91
        }
      ]
    },
    {
      "cell_type": "markdown",
      "source": [
        "#### Numerical operations on arrays\n"
      ],
      "metadata": {
        "id": "zKRdinZoqcGs"
      }
    },
    {
      "cell_type": "code",
      "source": [
        "a = np.array([1, 2, 3, 4])"
      ],
      "metadata": {
        "id": "tCIfR12kqo8e"
      },
      "execution_count": 92,
      "outputs": []
    },
    {
      "cell_type": "code",
      "source": [
        "a + 1"
      ],
      "metadata": {
        "colab": {
          "base_uri": "https://localhost:8080/"
        },
        "id": "AF3RQZhAuIHX",
        "outputId": "8a3e6d2c-a896-4696-d88b-78de0713dfe2"
      },
      "execution_count": 93,
      "outputs": [
        {
          "output_type": "execute_result",
          "data": {
            "text/plain": [
              "array([2, 3, 4, 5])"
            ]
          },
          "metadata": {},
          "execution_count": 93
        }
      ]
    },
    {
      "cell_type": "code",
      "source": [
        "a ** 2"
      ],
      "metadata": {
        "colab": {
          "base_uri": "https://localhost:8080/"
        },
        "id": "VLUiPhu6uJix",
        "outputId": "44048e55-57a9-445f-c2de-b1ff13fd2f9a"
      },
      "execution_count": 94,
      "outputs": [
        {
          "output_type": "execute_result",
          "data": {
            "text/plain": [
              "array([ 1,  4,  9, 16])"
            ]
          },
          "metadata": {},
          "execution_count": 94
        }
      ]
    },
    {
      "cell_type": "code",
      "source": [
        "b = np.ones(4) + 1\n",
        "a - b"
      ],
      "metadata": {
        "colab": {
          "base_uri": "https://localhost:8080/"
        },
        "id": "7NeTT1zyuVFO",
        "outputId": "0d6610e5-9cb9-478e-9b07-1456f0c263aa"
      },
      "execution_count": 96,
      "outputs": [
        {
          "output_type": "execute_result",
          "data": {
            "text/plain": [
              "array([-1.,  0.,  1.,  2.])"
            ]
          },
          "metadata": {},
          "execution_count": 96
        }
      ]
    },
    {
      "cell_type": "code",
      "source": [
        "a * b"
      ],
      "metadata": {
        "colab": {
          "base_uri": "https://localhost:8080/"
        },
        "id": "2O9_Y5RmuZuI",
        "outputId": "3f768ba0-b401-4b91-80da-65b40ab5dbc2"
      },
      "execution_count": 97,
      "outputs": [
        {
          "output_type": "execute_result",
          "data": {
            "text/plain": [
              "array([2., 4., 6., 8.])"
            ]
          },
          "metadata": {},
          "execution_count": 97
        }
      ]
    },
    {
      "cell_type": "code",
      "source": [
        "a = np.arange(10000)"
      ],
      "metadata": {
        "id": "RBU53v8nukWG"
      },
      "execution_count": 98,
      "outputs": []
    },
    {
      "cell_type": "code",
      "source": [
        "%timeit a + 1"
      ],
      "metadata": {
        "colab": {
          "base_uri": "https://localhost:8080/"
        },
        "id": "I_GTGCouuk8J",
        "outputId": "e56a7cc7-2be0-4268-a506-f65944978c2b"
      },
      "execution_count": 99,
      "outputs": [
        {
          "output_type": "stream",
          "name": "stdout",
          "text": [
            "5.45 µs ± 1.76 µs per loop (mean ± std. dev. of 7 runs, 100000 loops each)\n"
          ]
        }
      ]
    },
    {
      "cell_type": "code",
      "source": [
        "%timeit [i+1 for i in range(10000)] "
      ],
      "metadata": {
        "colab": {
          "base_uri": "https://localhost:8080/"
        },
        "id": "K9XKm5twumnu",
        "outputId": "ffedf231-27d9-4e1d-d3eb-8142f18d67d1"
      },
      "execution_count": 100,
      "outputs": [
        {
          "output_type": "stream",
          "name": "stdout",
          "text": [
            "729 µs ± 12.3 µs per loop (mean ± std. dev. of 7 runs, 1000 loops each)\n"
          ]
        }
      ]
    },
    {
      "cell_type": "code",
      "source": [
        "c = np.ones((3, 3))\n",
        "c.dot(c) # matrix multiplication"
      ],
      "metadata": {
        "colab": {
          "base_uri": "https://localhost:8080/"
        },
        "id": "jOqL6ch3uwbM",
        "outputId": "69c164eb-c71a-4e32-e37f-2b6a2ca4a392"
      },
      "execution_count": 101,
      "outputs": [
        {
          "output_type": "execute_result",
          "data": {
            "text/plain": [
              "array([[3., 3., 3.],\n",
              "       [3., 3., 3.],\n",
              "       [3., 3., 3.]])"
            ]
          },
          "metadata": {},
          "execution_count": 101
        }
      ]
    },
    {
      "cell_type": "code",
      "source": [
        "a = np.array([1, 2, 3, 4])\n",
        "b = np.array([4, 2, 2, 4])\n",
        "c = np.array([1, 2, 3, 4])\n",
        "\n",
        "a == b"
      ],
      "metadata": {
        "colab": {
          "base_uri": "https://localhost:8080/"
        },
        "id": "5SQxviKivqVj",
        "outputId": "e596e1d5-bc1f-483c-ef2a-28e2cc73660e"
      },
      "execution_count": 105,
      "outputs": [
        {
          "output_type": "execute_result",
          "data": {
            "text/plain": [
              "array([False,  True, False,  True])"
            ]
          },
          "metadata": {},
          "execution_count": 105
        }
      ]
    },
    {
      "cell_type": "code",
      "source": [
        "np.array_equal(a, b)"
      ],
      "metadata": {
        "colab": {
          "base_uri": "https://localhost:8080/"
        },
        "id": "rVDhVdxhvwsl",
        "outputId": "efbbe68a-9cb2-431a-c82b-4a1447cf67df"
      },
      "execution_count": 106,
      "outputs": [
        {
          "output_type": "execute_result",
          "data": {
            "text/plain": [
              "False"
            ]
          },
          "metadata": {},
          "execution_count": 106
        }
      ]
    },
    {
      "cell_type": "code",
      "source": [
        "np.array_equal(a, c)"
      ],
      "metadata": {
        "colab": {
          "base_uri": "https://localhost:8080/"
        },
        "id": "KJbElJXgv4io",
        "outputId": "05def758-a647-4092-d262-2f5d1b05090b"
      },
      "execution_count": 107,
      "outputs": [
        {
          "output_type": "execute_result",
          "data": {
            "text/plain": [
              "True"
            ]
          },
          "metadata": {},
          "execution_count": 107
        }
      ]
    },
    {
      "cell_type": "code",
      "source": [],
      "metadata": {
        "id": "p_4dY-AEwD7N"
      },
      "execution_count": null,
      "outputs": []
    },
    {
      "cell_type": "markdown",
      "source": [
        "### Matplotlib: plotting"
      ],
      "metadata": {
        "id": "TVv62RHTfINR"
      }
    },
    {
      "cell_type": "code",
      "source": [],
      "metadata": {
        "id": "bvmqORIreczF"
      },
      "execution_count": null,
      "outputs": []
    },
    {
      "cell_type": "markdown",
      "source": [
        "### Scipy: high-level scientific computing"
      ],
      "metadata": {
        "id": "q06keGiwfK6L"
      }
    },
    {
      "cell_type": "code",
      "source": [],
      "metadata": {
        "id": "HE7z-qgLebkw"
      },
      "execution_count": null,
      "outputs": []
    },
    {
      "cell_type": "markdown",
      "source": [
        "## 2. Advanced topics"
      ],
      "metadata": {
        "id": "KNMD8SkVfPg7"
      }
    },
    {
      "cell_type": "markdown",
      "source": [
        "### Advanced Python Constructs"
      ],
      "metadata": {
        "id": "Mdts5Q69fSKL"
      }
    },
    {
      "cell_type": "code",
      "source": [],
      "metadata": {
        "id": "UhwcPZRffRKG"
      },
      "execution_count": null,
      "outputs": []
    },
    {
      "cell_type": "markdown",
      "source": [
        "### Advanced Numpy"
      ],
      "metadata": {
        "id": "CJCETlqJfU3o"
      }
    },
    {
      "cell_type": "code",
      "source": [],
      "metadata": {
        "id": "kjQ_UvTsfWqb"
      },
      "execution_count": null,
      "outputs": []
    },
    {
      "cell_type": "markdown",
      "source": [
        "### Debugging Code"
      ],
      "metadata": {
        "id": "3viOiUrefXaX"
      }
    },
    {
      "cell_type": "code",
      "source": [],
      "metadata": {
        "id": "CQqiRtSwfaHQ"
      },
      "execution_count": null,
      "outputs": []
    },
    {
      "cell_type": "markdown",
      "source": [
        "### Optimizing Code"
      ],
      "metadata": {
        "id": "Q-GaDzrgfZCg"
      }
    },
    {
      "cell_type": "code",
      "source": [],
      "metadata": {
        "id": "elapDTbzfbbl"
      },
      "execution_count": null,
      "outputs": []
    },
    {
      "cell_type": "markdown",
      "source": [
        "### Sparse Matrices in Scipy"
      ],
      "metadata": {
        "id": "Cktnk6gsfb1b"
      }
    },
    {
      "cell_type": "code",
      "source": [],
      "metadata": {
        "id": "3uMUQPoSfd2B"
      },
      "execution_count": null,
      "outputs": []
    },
    {
      "cell_type": "markdown",
      "source": [
        "### Image manipulation and processing using Numpy and Scipy"
      ],
      "metadata": {
        "id": "6hE8tJn-fnp-"
      }
    },
    {
      "cell_type": "code",
      "source": [],
      "metadata": {
        "id": "xvBZPgODfr4m"
      },
      "execution_count": null,
      "outputs": []
    },
    {
      "cell_type": "markdown",
      "source": [
        "### Mathematical optimization: finding minimia of functions"
      ],
      "metadata": {
        "id": "8ZwlbqQCfsvY"
      }
    },
    {
      "cell_type": "code",
      "source": [],
      "metadata": {
        "id": "wV-g49Asfv8D"
      },
      "execution_count": null,
      "outputs": []
    },
    {
      "cell_type": "markdown",
      "source": [
        "### Interfacing with C"
      ],
      "metadata": {
        "id": "-hoMyIcRfwbJ"
      }
    },
    {
      "cell_type": "code",
      "source": [],
      "metadata": {
        "id": "wGM-7btZfxeG"
      },
      "execution_count": null,
      "outputs": []
    },
    {
      "cell_type": "markdown",
      "source": [
        "## 3. Packages and applications"
      ],
      "metadata": {
        "id": "wK5cGR5lfx82"
      }
    },
    {
      "cell_type": "markdown",
      "source": [
        "### Statistics in Python"
      ],
      "metadata": {
        "id": "7wV9p4gnf39F"
      }
    },
    {
      "cell_type": "code",
      "source": [],
      "metadata": {
        "id": "BMGFBjCQf3VV"
      },
      "execution_count": null,
      "outputs": []
    },
    {
      "cell_type": "markdown",
      "source": [
        "### Simpy: Symbolic Mathematics in Python"
      ],
      "metadata": {
        "id": "N0Cmd3-df6Z7"
      }
    },
    {
      "cell_type": "code",
      "source": [],
      "metadata": {
        "id": "bkQ7JIssf9Pf"
      },
      "execution_count": null,
      "outputs": []
    },
    {
      "cell_type": "markdown",
      "source": [
        "### Scikit-image: image processing"
      ],
      "metadata": {
        "id": "OA3tDBMmf9vb"
      }
    },
    {
      "cell_type": "code",
      "source": [],
      "metadata": {
        "id": "ygBVYZtrf_PN"
      },
      "execution_count": null,
      "outputs": []
    },
    {
      "cell_type": "markdown",
      "source": [
        "### Traits: building interactive dialogs"
      ],
      "metadata": {
        "id": "vkzJjYGhf_jT"
      }
    },
    {
      "cell_type": "code",
      "source": [],
      "metadata": {
        "id": "jc3SeNEcgDDC"
      },
      "execution_count": null,
      "outputs": []
    },
    {
      "cell_type": "markdown",
      "source": [
        "### 3D plotting with Mayavi"
      ],
      "metadata": {
        "id": "No4Gytr6gDdA"
      }
    },
    {
      "cell_type": "code",
      "source": [],
      "metadata": {
        "id": "fkwZmRdygFlE"
      },
      "execution_count": null,
      "outputs": []
    },
    {
      "cell_type": "markdown",
      "source": [
        "### scikit-learn: maching learning in Python"
      ],
      "metadata": {
        "id": "JURzqy2SgGEN"
      }
    },
    {
      "cell_type": "code",
      "source": [],
      "metadata": {
        "id": "Q8CA2YTdgH6D"
      },
      "execution_count": null,
      "outputs": []
    }
  ]
}