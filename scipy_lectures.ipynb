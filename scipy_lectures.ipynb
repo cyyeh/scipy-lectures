{
  "nbformat": 4,
  "nbformat_minor": 0,
  "metadata": {
    "colab": {
      "provenance": [],
      "authorship_tag": "ABX9TyNGRjbfxPgZbFyXwTM1icLa",
      "include_colab_link": true
    },
    "kernelspec": {
      "name": "python3",
      "display_name": "Python 3"
    },
    "language_info": {
      "name": "python"
    }
  },
  "cells": [
    {
      "cell_type": "markdown",
      "metadata": {
        "id": "view-in-github",
        "colab_type": "text"
      },
      "source": [
        "<a href=\"https://colab.research.google.com/github/cyyeh/scipy-lectures/blob/main/scipy_lectures.ipynb\" target=\"_parent\"><img src=\"https://colab.research.google.com/assets/colab-badge.svg\" alt=\"Open In Colab\"/></a>"
      ]
    },
    {
      "cell_type": "markdown",
      "source": [
        "# Scipy Lecture Notes\n",
        "\n",
        "> One document to learn numerics, science, and data with Python\n",
        "\n",
        "reference: https://scipy-lectures.org/index.html"
      ],
      "metadata": {
        "id": "oJRoGZVWeqaA"
      }
    },
    {
      "cell_type": "markdown",
      "source": [
        "## 1. Getting started with Python for science"
      ],
      "metadata": {
        "id": "TqP6UF0ie658"
      }
    },
    {
      "cell_type": "markdown",
      "source": [
        "### Numpy: creating and manipulating numerical data"
      ],
      "metadata": {
        "id": "F7cbqZSwfA_3"
      }
    },
    {
      "cell_type": "code",
      "execution_count": null,
      "metadata": {
        "id": "7uo3NMUseO7g"
      },
      "outputs": [],
      "source": []
    },
    {
      "cell_type": "markdown",
      "source": [
        "### Matplotlib: plotting"
      ],
      "metadata": {
        "id": "TVv62RHTfINR"
      }
    },
    {
      "cell_type": "code",
      "source": [],
      "metadata": {
        "id": "bvmqORIreczF"
      },
      "execution_count": null,
      "outputs": []
    },
    {
      "cell_type": "markdown",
      "source": [
        "### Scipy: high-level scientific computing"
      ],
      "metadata": {
        "id": "q06keGiwfK6L"
      }
    },
    {
      "cell_type": "code",
      "source": [
        "ff"
      ],
      "metadata": {
        "id": "HE7z-qgLebkw"
      },
      "execution_count": null,
      "outputs": []
    },
    {
      "cell_type": "markdown",
      "source": [
        "## 2. Advanced topics"
      ],
      "metadata": {
        "id": "KNMD8SkVfPg7"
      }
    },
    {
      "cell_type": "markdown",
      "source": [
        "### Advanced Python Constructs"
      ],
      "metadata": {
        "id": "Mdts5Q69fSKL"
      }
    },
    {
      "cell_type": "code",
      "source": [],
      "metadata": {
        "id": "UhwcPZRffRKG"
      },
      "execution_count": null,
      "outputs": []
    },
    {
      "cell_type": "markdown",
      "source": [
        "### Advanced Numpy"
      ],
      "metadata": {
        "id": "CJCETlqJfU3o"
      }
    },
    {
      "cell_type": "code",
      "source": [],
      "metadata": {
        "id": "kjQ_UvTsfWqb"
      },
      "execution_count": null,
      "outputs": []
    },
    {
      "cell_type": "markdown",
      "source": [
        "### Debugging Code"
      ],
      "metadata": {
        "id": "3viOiUrefXaX"
      }
    },
    {
      "cell_type": "code",
      "source": [],
      "metadata": {
        "id": "CQqiRtSwfaHQ"
      },
      "execution_count": null,
      "outputs": []
    },
    {
      "cell_type": "markdown",
      "source": [
        "### Optimizing Code"
      ],
      "metadata": {
        "id": "Q-GaDzrgfZCg"
      }
    },
    {
      "cell_type": "code",
      "source": [],
      "metadata": {
        "id": "elapDTbzfbbl"
      },
      "execution_count": null,
      "outputs": []
    },
    {
      "cell_type": "markdown",
      "source": [
        "### Sparse Matrices in Scipy"
      ],
      "metadata": {
        "id": "Cktnk6gsfb1b"
      }
    },
    {
      "cell_type": "code",
      "source": [],
      "metadata": {
        "id": "3uMUQPoSfd2B"
      },
      "execution_count": null,
      "outputs": []
    },
    {
      "cell_type": "markdown",
      "source": [
        "### Image manipulation and processing using Numpy and Scipy"
      ],
      "metadata": {
        "id": "6hE8tJn-fnp-"
      }
    },
    {
      "cell_type": "code",
      "source": [],
      "metadata": {
        "id": "xvBZPgODfr4m"
      },
      "execution_count": null,
      "outputs": []
    },
    {
      "cell_type": "markdown",
      "source": [
        "### Mathematical optimization: finding minimia of functions"
      ],
      "metadata": {
        "id": "8ZwlbqQCfsvY"
      }
    },
    {
      "cell_type": "code",
      "source": [],
      "metadata": {
        "id": "wV-g49Asfv8D"
      },
      "execution_count": null,
      "outputs": []
    },
    {
      "cell_type": "markdown",
      "source": [
        "### Interfacing with C"
      ],
      "metadata": {
        "id": "-hoMyIcRfwbJ"
      }
    },
    {
      "cell_type": "code",
      "source": [],
      "metadata": {
        "id": "wGM-7btZfxeG"
      },
      "execution_count": null,
      "outputs": []
    },
    {
      "cell_type": "markdown",
      "source": [
        "## 3. Packages and applications"
      ],
      "metadata": {
        "id": "wK5cGR5lfx82"
      }
    },
    {
      "cell_type": "markdown",
      "source": [
        "### Statistics in Python"
      ],
      "metadata": {
        "id": "7wV9p4gnf39F"
      }
    },
    {
      "cell_type": "code",
      "source": [],
      "metadata": {
        "id": "BMGFBjCQf3VV"
      },
      "execution_count": null,
      "outputs": []
    },
    {
      "cell_type": "markdown",
      "source": [
        "### Simpy: Symbolic Mathematics in Python"
      ],
      "metadata": {
        "id": "N0Cmd3-df6Z7"
      }
    },
    {
      "cell_type": "code",
      "source": [],
      "metadata": {
        "id": "bkQ7JIssf9Pf"
      },
      "execution_count": null,
      "outputs": []
    },
    {
      "cell_type": "markdown",
      "source": [
        "### Scikit-image: image processing"
      ],
      "metadata": {
        "id": "OA3tDBMmf9vb"
      }
    },
    {
      "cell_type": "code",
      "source": [],
      "metadata": {
        "id": "ygBVYZtrf_PN"
      },
      "execution_count": null,
      "outputs": []
    },
    {
      "cell_type": "markdown",
      "source": [
        "### Traits: building interactive dialogs"
      ],
      "metadata": {
        "id": "vkzJjYGhf_jT"
      }
    },
    {
      "cell_type": "code",
      "source": [],
      "metadata": {
        "id": "jc3SeNEcgDDC"
      },
      "execution_count": null,
      "outputs": []
    },
    {
      "cell_type": "markdown",
      "source": [
        "### 3D plotting with Mayavi"
      ],
      "metadata": {
        "id": "No4Gytr6gDdA"
      }
    },
    {
      "cell_type": "code",
      "source": [],
      "metadata": {
        "id": "fkwZmRdygFlE"
      },
      "execution_count": null,
      "outputs": []
    },
    {
      "cell_type": "markdown",
      "source": [
        "### scikit-learn: maching learning in Python"
      ],
      "metadata": {
        "id": "JURzqy2SgGEN"
      }
    },
    {
      "cell_type": "code",
      "source": [],
      "metadata": {
        "id": "Q8CA2YTdgH6D"
      },
      "execution_count": null,
      "outputs": []
    }
  ]
}